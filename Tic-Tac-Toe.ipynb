{
 "cells": [
  {
   "cell_type": "markdown",
   "metadata": {},
   "source": [
    "### Goal of game: "
   ]
  },
  {
   "cell_type": "markdown",
   "metadata": {},
   "source": [
    "Two players should be able to play the game (both sitting at the same computer).\n",
    "\n",
    "The board should be printed out every time a player makes a move.\n",
    "\n",
    "You should be able to accept input of the player position and then place a symbol on the board."
   ]
  },
  {
   "cell_type": "code",
   "execution_count": 1,
   "metadata": {},
   "outputs": [],
   "source": [
    "# Firs we define the board\n",
    "def tic_start():\n",
    "    \"'Function that defining board, list olf lists'\"\n",
    "    tic=[[str(1+x+y*3) for x in range(3)] for y in range(3)]\n",
    "    \n",
    "    return tic"
   ]
  },
  {
   "cell_type": "code",
   "execution_count": 2,
   "metadata": {},
   "outputs": [
    {
     "data": {
      "text/plain": [
       "[['1', '2', '3'], ['4', '5', '6'], ['7', '8', '9']]"
      ]
     },
     "execution_count": 2,
     "metadata": {},
     "output_type": "execute_result"
    }
   ],
   "source": [
    "# Let's take a look of what we craeted\n",
    "\n",
    "tic= tic_start()\n",
    "tic"
   ]
  },
  {
   "cell_type": "code",
   "execution_count": 3,
   "metadata": {},
   "outputs": [],
   "source": [
    "# Secondly creating a function for cheacking if our board is full\n",
    "\n",
    "def full(board):\n",
    "    '''Function that checking if our board is full,if value is true game is over'''\n",
    "    \n",
    "    fill=False\n",
    "    tic_count=[board[i][j] for i in range(3) for j in range(3)]\n",
    "    if (tic_count.count(\"X\") + tic_count.count(\"O\"))==9:\n",
    "        fill=True\n",
    "    return fill\n"
   ]
  },
  {
   "cell_type": "code",
   "execution_count": 4,
   "metadata": {},
   "outputs": [],
   "source": [
    "# Creating the functions that check if a victory has been achieved\n",
    "\n",
    "def win_hor(mark,board):\n",
    "    win=False\n",
    "    #checking horisontal win\n",
    "    for i in range(len(board)):\n",
    "        if board[i].count(mark)==3:\n",
    "            win=True\n",
    "            break\n",
    "        \n",
    "    return win\n",
    "            \n",
    "\n",
    "    \n",
    "def win_dig(mark,board):\n",
    "    #checiking diagonall win\n",
    "    win=False\n",
    "    first_dig=[ board[i][j] for i in range(len(board)) for j in range(len(board)) if i==j]\n",
    "    second_dig=[board[i][j] for i in range(len(board))  for j in range(len(board)) if j==(len(board)-i-1)]\n",
    "    \n",
    "    if first_dig.count(mark)==3 or second_dig.count(mark)==3 :\n",
    "        win=True\n",
    "  \n",
    "    return win\n",
    "\n",
    "\n",
    "\n",
    "def win_ver(mark,board):\n",
    "    #checiking vertical win\n",
    "    win=False\n",
    "    h1=[board[i][j] for j in range(1) for i in range(len(board))]\n",
    "    h2=[board[i][j] for j in range(1,2) for i in range(len(board))]\n",
    "    h3=[board[i][j] for j in range(2,3) for i in range(len(board))]\n",
    "    if h1.count(mark)==3 or h2.count(mark)==3 or h3.count(mark)==3:\n",
    "        win=True\n",
    "    return win\n",
    "\n",
    "\n",
    "\n",
    "def win(marker,tic):\n",
    "    # total win checking\n",
    "    winner=False\n",
    "    if win_hor(mark=marker,board=tic) or win_dig(mark=marker,board=tic) or win_ver(mark=marker,board=tic):\n",
    "        winner=True\n",
    "    return winner\n"
   ]
  },
  {
   "cell_type": "code",
   "execution_count": 5,
   "metadata": {},
   "outputs": [],
   "source": [
    "# Drawing our playing board\n",
    "from IPython.display import clear_output\n",
    "\n",
    "def display_board(board):\n",
    "    clear_output() # Remember, this only works in jupyter!\n",
    "\n",
    "    print('   |   |')\n",
    "    print(' ' + board[0][0] + ' | ' + board[0][1] + ' | ' +board[0][2])\n",
    "    print('   |   |')\n",
    "    print('-----------')\n",
    "    print('   |   |')\n",
    "    print(' ' + board[1][0] + ' | ' + board[1][1] + ' | ' + board[1][2])\n",
    "    print('   |   |')\n",
    "    print('-----------')\n",
    "    print('   |   |')\n",
    "    print(' ' + board[2][0] + ' | ' + board[2][1] + ' | ' + board[2][2])\n",
    "    print('   |   |')"
   ]
  },
  {
   "cell_type": "code",
   "execution_count": 6,
   "metadata": {},
   "outputs": [],
   "source": [
    "# Who is first on the move\n",
    "\n",
    "from random import choice\n",
    "\n",
    "def first_move(player1,player2):\n",
    "    \"' A function that randomly decides which player plays first'\"\n",
    "    player_list=[]\n",
    "    first_move=choice([player1,player2])\n",
    "    if first_move==player1:\n",
    "        player_list=[player1,player2]\n",
    "    else:\n",
    "        player_list=[player2,player1]\n",
    "    return player_list"
   ]
  },
  {
   "cell_type": "code",
   "execution_count": 7,
   "metadata": {},
   "outputs": [],
   "source": [
    "# Chose x or O\n",
    "\n",
    "def choose_marker():\n",
    "    \n",
    "    ''' A function that allows the player to select a mark '''\n",
    "    \n",
    "    player1=\"\"\n",
    "    player2=\"\"\n",
    "    while len(player1)<3:\n",
    "        player1=input(\"PlayerNO:1 name: \")\n",
    "    while len(player2)<3:\n",
    "        player2=input(\"PlayerNO:2 name: \")\n",
    "    \n",
    "    p1=\"\"\n",
    "    \n",
    "    while p1.lower() not in ('x','o'):\n",
    "        p1=input(\"PlayerNO:1 choose: 'X' or 'O' \")\n",
    "        if p1.upper()==\"X\":\n",
    "            p2=\"O\"\n",
    "        else:\n",
    "            p2=\"X\"\n",
    "            \n",
    "    p1=p1.upper()\n",
    "    p2=p2.upper()\n",
    "    \n",
    "    print(f\"\\n {player1} chose {p1} \\n {player2} chose {p2}\")\n",
    "    \n",
    "    return((player1,p1),(player2,p2))\n"
   ]
  },
  {
   "cell_type": "code",
   "execution_count": 8,
   "metadata": {},
   "outputs": [],
   "source": [
    "# Let's play\n",
    "\n",
    "def move(board,player,p1):\n",
    "    '''a function with the help of which the player determines his move'''\n",
    "    \n",
    "    display_board(board)\n",
    "    field=''\n",
    "    L=[board[i][j] for i in range(3) for j in range(3)]\n",
    "    \n",
    "    while field not in L:\n",
    "        field=(input(\"{}, insert field\".format(p1)))\n",
    "        if field not in L:\n",
    "            print(\"Enterd number is not on the board, please choose another\")\n",
    "        f=int(field)\n",
    "    if f in [1,2,3]:\n",
    "        board[0][f-1]=player\n",
    "    elif f in [4,5,6]:\n",
    "        board[1][f-4]=player\n",
    "    else:\n",
    "        board[2][f-7]=player\n",
    "        \n",
    "    display_board(board)"
   ]
  },
  {
   "cell_type": "code",
   "execution_count": 9,
   "metadata": {},
   "outputs": [],
   "source": [
    "# Making the game itself\n",
    "import time\n",
    "\n",
    "def game(player1,player2):\n",
    "    ''' A game function which contains most of the function to keep the game running'''\n",
    "    tic=tic_start()\n",
    "    first_player=first_move(player1, player2)\n",
    "    print(\"First play {}\".format(first_player[0]))\n",
    "    time.sleep(3) # Sleep for 3 seconds\n",
    "   \n",
    "    \n",
    "    while full(tic)==False and win('X',tic)==False and win('O',tic)==False:\n",
    "        for play in first_player:\n",
    "            if (full(tic)==True or win('X',tic)==True or win('O',tic)==True ):\n",
    "                break\n",
    "            else:\n",
    "                move(board=tic,player=play[1],p1=play[0])\n",
    "        \n",
    "    \n",
    "                \n",
    "    if full(tic):\n",
    "        print(\"The result is tide!!!\")\n",
    "    elif win('X',tic):\n",
    "        print(\"{} has won congratulation!!!\".format(player1[0] if player1[1]=='X'else player2[0]))\n",
    "    else:\n",
    "        print(\"{} has won congratulation!!!\".format(player1[0] if player1[1]=='O'else player2[0]))\n",
    "    tic=tic_start()\n",
    "        "
   ]
  },
  {
   "cell_type": "code",
   "execution_count": 10,
   "metadata": {},
   "outputs": [],
   "source": [
    "# Finnaly let's play\n",
    "def main():\n",
    "    player1,player2=choose_marker()\n",
    "    time.sleep(2)\n",
    "    game(player1,player2)"
   ]
  },
  {
   "cell_type": "code",
   "execution_count": null,
   "metadata": {},
   "outputs": [],
   "source": [
    "if __name__ == '__main__':\n",
    "    main()"
   ]
  },
  {
   "cell_type": "code",
   "execution_count": null,
   "metadata": {},
   "outputs": [],
   "source": []
  }
 ],
 "metadata": {
  "kernelspec": {
   "display_name": "Python 3",
   "language": "python",
   "name": "python3"
  },
  "language_info": {
   "codemirror_mode": {
    "name": "ipython",
    "version": 3
   },
   "file_extension": ".py",
   "mimetype": "text/x-python",
   "name": "python",
   "nbconvert_exporter": "python",
   "pygments_lexer": "ipython3",
   "version": "3.7.6"
  }
 },
 "nbformat": 4,
 "nbformat_minor": 4
}

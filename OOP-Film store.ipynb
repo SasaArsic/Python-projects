{
 "cells": [
  {
   "cell_type": "markdown",
   "metadata": {},
   "source": [
    "# Object Oriented Programming "
   ]
  },
  {
   "cell_type": "markdown",
   "metadata": {},
   "source": [
    "### Making store for film seling"
   ]
  },
  {
   "cell_type": "markdown",
   "metadata": {},
   "source": [
    "Create a Film class with next atributs:\n",
    "    \n",
    "    * id_film\n",
    "    * name\n",
    "    * genre\n",
    "    * price\n",
    "    \n",
    "Create a Bill class with next atributs:\n",
    "    \n",
    "    * id\n",
    "    * film_list\n",
    "    \n",
    "    and methods:\n",
    "    \n",
    "    * add_film\n",
    "    * remove_film\n",
    "    * calculate_bill\n",
    "\n",
    "Create User class with next atributs:\n",
    "    \n",
    "    *id_user\n",
    "    *name\n",
    "    *surname\n",
    "    *date\n",
    "    *unpaid_bill\n",
    "    *debit"
   ]
  },
  {
   "cell_type": "code",
   "execution_count": 1,
   "metadata": {},
   "outputs": [],
   "source": [
    "# Creating Film class\n",
    "class Film:\n",
    "    \n",
    "    def __init__(self,id_film,name,genre,price):\n",
    "        \n",
    "        self.id_film=id_film\n",
    "        self.name=name\n",
    "        self.genre=genre\n",
    "        self.price=price\n",
    "        \n",
    "        \n",
    "    def __repr__(self):\n",
    "        \n",
    "        return str(f\"\\nFilm_id:{self.id_film} \\nTitle:{self.name}\\nGener:{self.genre}\\nPrice:{self.price}\")\n",
    "\n"
   ]
  },
  {
   "cell_type": "code",
   "execution_count": 26,
   "metadata": {},
   "outputs": [],
   "source": [
    "# Creating Bill class\n",
    "class Bill:\n",
    "    \n",
    "    def __init__(self,id:int,film_list:list):\n",
    "        \n",
    "        self.id=id\n",
    "        self.film_list=film_list\n",
    "        self.price=0\n",
    "        \n",
    "        \n",
    "    def calculate_bill(self):\n",
    "        \n",
    "        price_list=[film.price for film in self.film_list]\n",
    "        total=sum(price_list)\n",
    "        \n",
    "        return sum(price_list)\n",
    "    \n",
    "    \n",
    "    def add_film(self,film:Film):\n",
    "        \n",
    "        self.film_list.append(film)\n",
    "        \n",
    "        \n",
    "    def remove_film(self):\n",
    "        \n",
    "        for film in self.film_list:\n",
    "            print('Name:{} Id:{}'.format(film.name,film.id_film))\n",
    "            \n",
    "        idd=int(input(\"Input number of film ID You want to remove= \"))   \n",
    "        \n",
    "        if idd  in [ film.id_film for film in self.film_list]:\n",
    "            for film in self.film_list:\n",
    "                if film.id_film==idd:\n",
    "                    self.film_list.remove(film)\n",
    "                    print('Film_id:{} name:{} was removed'.format(film.id_film,film.name))\n",
    "        else:\n",
    "            print(\"Id not in film_list\")        \n",
    "                \n",
    "                    \n",
    "    \n",
    "    def __repr__(self):\n",
    "        \n",
    "        res=''\n",
    "        res+=\"Bill ID: {}\\n\".format(self.id)\n",
    "        res+=\"\\n\"\n",
    "        for film in (self.film_list):\n",
    "            res+='Name:{}, Price:{}\\n'.format(film.name,film.price)\n",
    "        total=sum([film.price for film in self.film_list])\n",
    "        res+=\"\\n\"\n",
    "        res+=\"Total price: {} \".format(total)\n",
    "        \n",
    "        return res\n",
    "    "
   ]
  },
  {
   "cell_type": "code",
   "execution_count": 27,
   "metadata": {},
   "outputs": [],
   "source": [
    "# Creating User class\n",
    "class User:\n",
    "    \n",
    "    def __init__(self,id_user:int,user_name:str,date:str,unpaid_bill:list,debit=0):\n",
    "        \n",
    "        self.id_user=id_user\n",
    "        self.user_name=user_name\n",
    "        self.date=date\n",
    "        self.unpaid_bill=unpaid_bill\n",
    "        self.debit=debit\n",
    "        \n",
    "      \n",
    "    def debitt(self):\n",
    "        \n",
    "        price_list=([bill.calculate_bill() for bill in self.unpaid_bill])\n",
    "        \n",
    "        self.debit=sum(price_list)\n",
    "        \n",
    "        return sum(price_list)\n",
    "    \n",
    "        \n",
    "    def __repr__(self):\n",
    "        \n",
    "        res=\" \"\n",
    "        res+=str(('User_id {}\\n Name {}\\n Date {}\\n {} '.format(self.id_user,self.user_name,self.date,self.debit)))\n",
    "        res+=str(self.unpaid_bill)\n",
    "        \n",
    "        return rez\n",
    "        "
   ]
  },
  {
   "cell_type": "code",
   "execution_count": 28,
   "metadata": {},
   "outputs": [
    {
     "name": "stdout",
     "output_type": "stream",
     "text": [
      "\n",
      "Film_id:1 \n",
      "Title:Titanic\n",
      "Gener:Drama\n",
      "Price:10\n"
     ]
    }
   ],
   "source": [
    "#let's put some values in lists\n",
    "\n",
    "id_num=[1,2,3,4,5]\n",
    "name=[\"Titanic\",\"Man on fire\",\"Godfather\",\"Dude where's my car\",'Alien']\n",
    "genre=['Drama','Thriller','Crime drama','Comedy','SF']\n",
    "price=[10,20,15,25,12]\n",
    "\n",
    "# let's make some instance of Film class\n",
    "\n",
    "film1=Film(id_num[0],name[0],genre[0],price[0])\n",
    "film2=Film(id_num[1],name[1],genre[1],price[1])\n",
    "film3=Film(id_num[2],name[2],genre[2],price[2])\n",
    "film4=Film(id_num[3],name[3],genre[3],price[3])\n",
    "film5=Film(id_num[4],name[4],genre[4],price[4])\n",
    "\n",
    "print(film1)"
   ]
  },
  {
   "cell_type": "code",
   "execution_count": 29,
   "metadata": {},
   "outputs": [
    {
     "name": "stdout",
     "output_type": "stream",
     "text": [
      "Bill ID: 1\n",
      "\n",
      "Name:Titanic, Price:10\n",
      "Name:Man on fire, Price:20\n",
      "Name:Godfather, Price:15\n",
      "\n",
      "Total price: 45 \n"
     ]
    }
   ],
   "source": [
    "# Let's make some bills\n",
    "\n",
    "bill1=Bill(1,[film1,film2,film3])\n",
    "bill1.calculate_bill()\n",
    "print(bill1)"
   ]
  },
  {
   "cell_type": "code",
   "execution_count": 30,
   "metadata": {},
   "outputs": [],
   "source": [
    "# Adding a film to users bill\n",
    "bill1.add_film(film4)"
   ]
  },
  {
   "cell_type": "code",
   "execution_count": 31,
   "metadata": {},
   "outputs": [
    {
     "name": "stdout",
     "output_type": "stream",
     "text": [
      "Bill ID: 1\n",
      "\n",
      "Name:Titanic, Price:10\n",
      "Name:Man on fire, Price:20\n",
      "Name:Godfather, Price:15\n",
      "Name:Dude where's my car, Price:25\n",
      "\n",
      "Total price: 70 \n"
     ]
    }
   ],
   "source": [
    "# Let's see total bill\n",
    "bill1.calculate_bill()\n",
    "print(bill1)"
   ]
  },
  {
   "cell_type": "code",
   "execution_count": 34,
   "metadata": {},
   "outputs": [
    {
     "name": "stdout",
     "output_type": "stream",
     "text": [
      "Bill ID: 2\n",
      "\n",
      "Name:Man on fire, Price:20\n",
      "Name:Dude where's my car, Price:25\n",
      "\n",
      "Total price: 45 \n"
     ]
    }
   ],
   "source": [
    "bill2=Bill(2,[film2,film4])\n",
    "bill2.calculate_bill()\n",
    "print(bill2)"
   ]
  },
  {
   "cell_type": "code",
   "execution_count": 35,
   "metadata": {},
   "outputs": [],
   "source": [
    "# Let's create a user\n",
    "user1=User(1,\"John Doe\",'21-10-2005',[bill1,bill2])"
   ]
  },
  {
   "cell_type": "code",
   "execution_count": 36,
   "metadata": {},
   "outputs": [
    {
     "data": {
      "text/plain": [
       "[Bill ID: 1\n",
       " \n",
       " Name:Titanic, Price:10\n",
       " Name:Man on fire, Price:20\n",
       " Name:Godfather, Price:15\n",
       " Name:Dude where's my car, Price:25\n",
       " \n",
       " Total price: 70 ,\n",
       " Bill ID: 2\n",
       " \n",
       " Name:Man on fire, Price:20\n",
       " Name:Dude where's my car, Price:25\n",
       " \n",
       " Total price: 45 ]"
      ]
     },
     "execution_count": 36,
     "metadata": {},
     "output_type": "execute_result"
    }
   ],
   "source": [
    "# Let's see his unpaid bills\n",
    "\n",
    "user1.unpaid_bill"
   ]
  },
  {
   "cell_type": "code",
   "execution_count": null,
   "metadata": {},
   "outputs": [
    {
     "name": "stdout",
     "output_type": "stream",
     "text": [
      "Name:Man on fire Id:2\n",
      "Name:Dude where's my car Id:4\n"
     ]
    }
   ],
   "source": [
    "# Removing film from our bill \n",
    "bill2.remove_film()"
   ]
  }
 ],
 "metadata": {
  "kernelspec": {
   "display_name": "Python 3",
   "language": "python",
   "name": "python3"
  },
  "language_info": {
   "codemirror_mode": {
    "name": "ipython",
    "version": 3
   },
   "file_extension": ".py",
   "mimetype": "text/x-python",
   "name": "python",
   "nbconvert_exporter": "python",
   "pygments_lexer": "ipython3",
   "version": "3.7.6"
  }
 },
 "nbformat": 4,
 "nbformat_minor": 4
}

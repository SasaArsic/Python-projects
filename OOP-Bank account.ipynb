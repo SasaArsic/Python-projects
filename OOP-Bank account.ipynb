{
 "cells": [
  {
   "cell_type": "markdown",
   "metadata": {},
   "source": [
    "# Object Oriented Programming "
   ]
  },
  {
   "cell_type": "markdown",
   "metadata": {},
   "source": [
    "### Making the BANK account "
   ]
  },
  {
   "cell_type": "markdown",
   "metadata": {},
   "source": [
    " creating a bank account class that has two attributes:\n",
    "\n",
    "* owner\n",
    "* balance\n",
    "\n",
    "and two methods:\n",
    "\n",
    "* deposit\n",
    "* withdraw\n",
    "\n",
    "As an added requirement, withdrawals may not exceed the available balance.\n"
   ]
  },
  {
   "cell_type": "code",
   "execution_count": 6,
   "metadata": {},
   "outputs": [],
   "source": [
    "class Account:\n",
    "    \n",
    "    def __init__ (self,owner:str,balance:int=0):\n",
    "        \n",
    "        self.owner=owner\n",
    "        self.balance=balance\n",
    "        \n",
    "    def deposit(self,dep):\n",
    "        self.balance+=dep\n",
    "        print(f'You have successfully deposit {dep} $')\n",
    "        print(f'Your current balance is: {self.balance} $')\n",
    "              \n",
    "    def withdraw(self,wit):\n",
    "        if self.balance>wit:\n",
    "            self.balance-=wit\n",
    "            print('Successfull withdrawal.')\n",
    "            print(f'Your current balance is: {self.balance} $')\n",
    "        else: \n",
    "            print('There is no available funds on this account')\n",
    "            \n",
    "    def __str__ (self):\n",
    "        return f'User_name: {self.owner}\\nCurrent_balance: {self.balance} $'"
   ]
  },
  {
   "cell_type": "code",
   "execution_count": 7,
   "metadata": {},
   "outputs": [
    {
     "name": "stdout",
     "output_type": "stream",
     "text": [
      "You have successfully deposit 200 $\n",
      "Your current balance is: 1200 $\n",
      "There is no available funds on this account\n"
     ]
    }
   ],
   "source": [
    "client1=Account(\"Peter Parker\",1000)\n",
    "client1.deposit(200)\n",
    "client1.withdraw(1500)"
   ]
  },
  {
   "cell_type": "code",
   "execution_count": 8,
   "metadata": {},
   "outputs": [
    {
     "name": "stdout",
     "output_type": "stream",
     "text": [
      "User_name: Peter Parker\n",
      "Current_balance: 1200 $\n"
     ]
    }
   ],
   "source": [
    "print(client1)"
   ]
  }
 ],
 "metadata": {
  "kernelspec": {
   "display_name": "Python 3",
   "language": "python",
   "name": "python3"
  },
  "language_info": {
   "codemirror_mode": {
    "name": "ipython",
    "version": 3
   },
   "file_extension": ".py",
   "mimetype": "text/x-python",
   "name": "python",
   "nbconvert_exporter": "python",
   "pygments_lexer": "ipython3",
   "version": "3.7.6"
  }
 },
 "nbformat": 4,
 "nbformat_minor": 4
}
